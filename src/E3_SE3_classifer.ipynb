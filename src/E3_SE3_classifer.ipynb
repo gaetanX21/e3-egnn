{
 "cells": [
  {
   "cell_type": "code",
   "execution_count": 33,
   "metadata": {},
   "outputs": [
    {
     "ename": "ImportError",
     "evalue": "cannot import name 'LinReg2' from 'models' (/Users/samsongourevitch/Documents/EGGN_Classifier/src/models.py)",
     "output_type": "error",
     "traceback": [
      "\u001b[0;31m---------------------------------------------------------------------------\u001b[0m",
      "\u001b[0;31mImportError\u001b[0m                               Traceback (most recent call last)",
      "Cell \u001b[0;32mIn[33], line 9\u001b[0m\n\u001b[1;32m      7\u001b[0m \u001b[38;5;28;01mfrom\u001b[39;00m \u001b[38;5;21;01msklearn\u001b[39;00m\u001b[38;5;21;01m.\u001b[39;00m\u001b[38;5;21;01mmodel_selection\u001b[39;00m \u001b[38;5;28;01mimport\u001b[39;00m train_test_split\n\u001b[1;32m      8\u001b[0m \u001b[38;5;28;01mfrom\u001b[39;00m \u001b[38;5;21;01mdata\u001b[39;00m \u001b[38;5;28;01mimport\u001b[39;00m load_qm9, split\n\u001b[0;32m----> 9\u001b[0m \u001b[38;5;28;01mfrom\u001b[39;00m \u001b[38;5;21;01mmodels\u001b[39;00m \u001b[38;5;28;01mimport\u001b[39;00m LinReg, E3EGNN, LinReg2\n\u001b[1;32m     10\u001b[0m \u001b[38;5;28;01mfrom\u001b[39;00m \u001b[38;5;21;01mtrain_eval\u001b[39;00m \u001b[38;5;28;01mimport\u001b[39;00m train_model, evaluate_model\n\u001b[1;32m     11\u001b[0m \u001b[38;5;28;01mimport\u001b[39;00m \u001b[38;5;21;01mnumpy\u001b[39;00m \u001b[38;5;28;01mas\u001b[39;00m \u001b[38;5;21;01mnp\u001b[39;00m\n",
      "\u001b[0;31mImportError\u001b[0m: cannot import name 'LinReg2' from 'models' (/Users/samsongourevitch/Documents/EGGN_Classifier/src/models.py)"
     ]
    }
   ],
   "source": [
    "import pandas as pd\n",
    "import torch\n",
    "from torch_geometric.data import Data\n",
    "from torch_geometric.loader import DataLoader\n",
    "import torch.nn.functional as F\n",
    "from torch.optim import Adam\n",
    "from sklearn.model_selection import train_test_split\n",
    "from data import load_qm9, split\n",
    "from models import LinReg, E3EGNN, MLP\n",
    "from train_eval import train_model, evaluate_model\n",
    "import numpy as np\n",
    "from tqdm import tqdm\n",
    "from torch_geometric.datasets import QM9"
   ]
  },
  {
   "cell_type": "code",
   "execution_count": 30,
   "metadata": {},
   "outputs": [],
   "source": [
    "import sys\n",
    "sys.path.append('/Users/samsongourevitch/Documents/EGGN_Classifier/src/')\n"
   ]
  },
  {
   "cell_type": "code",
   "execution_count": 32,
   "metadata": {},
   "outputs": [
    {
     "name": "stdout",
     "output_type": "stream",
     "text": [
      "['/Users/samsongourevitch/.pyenv/versions/3.8.10/lib/python38.zip', '/Users/samsongourevitch/.pyenv/versions/3.8.10/lib/python3.8', '/Users/samsongourevitch/.pyenv/versions/3.8.10/lib/python3.8/lib-dynload', '', '/Users/samsongourevitch/.pyenv/versions/3.8.10/lib/python3.8/site-packages', '/Users/samsongourevitch/Documents/EGGN_Classifier/src/']\n"
     ]
    }
   ],
   "source": [
    "import sys\n",
    "print(sys.path)"
   ]
  },
  {
   "cell_type": "code",
   "execution_count": 14,
   "metadata": {},
   "outputs": [],
   "source": [
    "device = torch.device(\"cuda\" if torch.cuda.is_available() else \"cpu\")"
   ]
  },
  {
   "cell_type": "code",
   "execution_count": 6,
   "metadata": {},
   "outputs": [
    {
     "name": "stderr",
     "output_type": "stream",
     "text": [
      "Processing...\n",
      "100%|██████████| 133885/133885 [00:53<00:00, 2512.45it/s]\n",
      "Done!\n",
      "/Users/samsongourevitch/.pyenv/versions/3.8.10/lib/python3.8/site-packages/torch_geometric/data/in_memory_dataset.py:300: UserWarning: It is not recommended to directly access the internal storage format `data` of an 'InMemoryDataset'. If you are absolutely certain what you are doing, access the internal storage via `InMemoryDataset._data` instead to suppress this warning. Alternatively, you can access stacked individual attributes of every graph via `dataset.{attr_name}`.\n",
      "  warnings.warn(msg)\n"
     ]
    }
   ],
   "source": [
    "qm9_dataset = load_qm9()"
   ]
  },
  {
   "cell_type": "code",
   "execution_count": 15,
   "metadata": {},
   "outputs": [],
   "source": [
    "# Split dataset into train val and test sets\n",
    "train_dataset, val_dataset, test_dataset = split(qm9_dataset)"
   ]
  },
  {
   "cell_type": "code",
   "execution_count": null,
   "metadata": {},
   "outputs": [],
   "source": [
    "# Define the models\n",
    "linreg = LinReg().to(device)\n",
    "mlp = MLP().to(device)\n",
    "e3_model = E3EGNN().to(device)\n",
    "# se3_model = SE3EGNN().to(device)\n",
    "\n",
    "# Define optimizers and loss function\n",
    "optimizer_e3 = Adam(e3_model.parameters(), lr=0.001)\n",
    "# optimizer_se3 = Adam(se3_model.parameters(), lr=0.001)"
   ]
  },
  {
   "cell_type": "code",
   "execution_count": null,
   "metadata": {},
   "outputs": [],
   "source": [
    "# Train and evaluate\n",
    "epochs = 10\n",
    "for epoch in range(epochs):\n",
    "    train_model(e3_model, train_loader, optimizer_e3)\n",
    "    # train_model(se3_model, train_loader, optimizer_se3)\n",
    "    train_loss_linreg, train_acc_linreg = evaluate_model(linreg, train_dataset)\n",
    "    train_loss_mlp, train_acc_mlp = evaluate_model(mlp, train_loader)\n",
    "    train_loss_e3, train_acc_e3 = evaluate_model(e3_model, train_dataset)\n",
    "    # train_loss_se3, train_acc_se3 = evaluate_model(se3_model, train_loader)\n",
    "    test_loss_e3, test_acc_e3 = evaluate_model(e3_model, test_dataset)\n",
    "    # test_loss_se3, test_acc_se3 = evaluate_model(se3_model, test_loader)\n",
    "    print(f\"[Epoch {epoch+1}] Train Acc (E3): {train_acc_e3:.4f}, Test Acc (E3): {test_acc_e3:.4f}\")\n"
   ]
  }
 ],
 "metadata": {
  "kernelspec": {
   "display_name": "Python 3",
   "language": "python",
   "name": "python3"
  },
  "language_info": {
   "codemirror_mode": {
    "name": "ipython",
    "version": 3
   },
   "file_extension": ".py",
   "mimetype": "text/x-python",
   "name": "python",
   "nbconvert_exporter": "python",
   "pygments_lexer": "ipython3",
   "version": "3.11.9"
  }
 },
 "nbformat": 4,
 "nbformat_minor": 2
}
