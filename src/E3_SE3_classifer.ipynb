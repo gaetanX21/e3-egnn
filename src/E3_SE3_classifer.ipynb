{
 "cells": [
  {
   "cell_type": "code",
   "execution_count": 2,
   "metadata": {},
   "outputs": [],
   "source": [
    "import pandas as pd\n",
    "import torch\n",
    "from torch_geometric.data import Data\n",
    "from torch_geometric.loader import DataLoader\n",
    "import torch.nn.functional as F\n",
    "from torch.optim import Adam\n",
    "from sklearn.model_selection import train_test_split\n",
    "from data import load_qm9, preprocess_qm9, get_chiral_molecules\n",
    "from models import E3EquivariantGNN, SE3EquivariantGNN\n",
    "from train_eval import train_model, evaluate_model\n",
    "import numpy as np\n",
    "from tqdm import tqdm\n",
    "from torch_geometric.datasets import QM9"
   ]
  },
  {
   "cell_type": "code",
   "execution_count": 3,
   "metadata": {},
   "outputs": [],
   "source": [
    "device = torch.device(\"cuda\" if torch.cuda.is_available() else \"cpu\")"
   ]
  },
  {
   "cell_type": "code",
   "execution_count": 4,
   "metadata": {},
   "outputs": [
    {
     "name": "stderr",
     "output_type": "stream",
     "text": [
      "Downloading https://deepchemdata.s3-us-west-1.amazonaws.com/datasets/molnet_publish/qm9.zip\n",
      "Extracting ..\\datasets\\raw\\qm9.zip\n",
      "Downloading https://ndownloader.figshare.com/files/3195404\n",
      "Processing...\n",
      "100%|██████████| 133885/133885 [01:56<00:00, 1151.57it/s]\n",
      "Done!\n"
     ]
    }
   ],
   "source": [
    "# Load the QM9 dataset directly\n",
    "filepath = \"../datasets/\"\n",
    "qm9_dataset = QM9(root=filepath)"
   ]
  },
  {
   "cell_type": "code",
   "execution_count": 9,
   "metadata": {},
   "outputs": [],
   "source": [
    "data=qm9_dataset[0]"
   ]
  },
  {
   "cell_type": "code",
   "execution_count": 16,
   "metadata": {},
   "outputs": [
    {
     "data": {
      "text/plain": [
       "tensor([[    0.0000,    13.2100,   -10.5499,     3.1865,    13.7363,    35.3641,\n",
       "             1.2177, -1101.4878, -1101.4098, -1101.3840, -1102.0229,     6.4690,\n",
       "           -17.1722,   -17.2868,   -17.3897,   -16.1519,   157.7118,   157.7100,\n",
       "           157.7070]])"
      ]
     },
     "execution_count": 16,
     "metadata": {},
     "output_type": "execute_result"
    }
   ],
   "source": [
    "data.y"
   ]
  },
  {
   "cell_type": "code",
   "execution_count": 5,
   "metadata": {},
   "outputs": [
    {
     "name": "stdout",
     "output_type": "stream",
     "text": [
      "Number of chiral molecules found: 93980\n",
      "Sample chiral molecules (SMILES): ['[H]C([H])([H])[C@]1([H])OC1([H])[H]', '[H]N([H])[C@@]([H])(C#N)C([H])([H])[H]', '[H]C#C[C@]([H])(O[H])C([H])([H])[H]', '[H]O[C@@]([H])(C#N)C([H])([H])[H]', '[H]O[C@@]([H])(C([H])=O)C([H])([H])[H]']\n"
     ]
    }
   ],
   "source": [
    "# Get chiral molecules\n",
    "chiral_molecules = get_chiral_molecules(qm9_dataset)\n",
    "\n",
    "# Output the result\n",
    "print(f\"Number of chiral molecules found: {len(chiral_molecules)}\")\n",
    "print(\"Sample chiral molecules (SMILES):\", chiral_molecules[:5])"
   ]
  },
  {
   "cell_type": "code",
   "execution_count": null,
   "metadata": {},
   "outputs": [],
   "source": [
    "# Define the models\n",
    "e3_model = E3EquivariantGNN(input_irreps=\"1x0e\", hidden_irreps=\"1x1e\", output_irreps=\"1x0e\").to(device)\n",
    "se3_model = SE3EquivariantGNN(input_irreps=\"1x0e\", hidden_irreps=\"1x1e\", output_irreps=\"1x0e\").to(device)\n",
    "\n",
    "# Define optimizers and loss function\n",
    "optimizer_e3 = Adam(e3_model.parameters(), lr=0.001)\n",
    "optimizer_se3 = Adam(se3_model.parameters(), lr=0.001)"
   ]
  },
  {
   "cell_type": "code",
   "execution_count": null,
   "metadata": {},
   "outputs": [],
   "source": [
    "# Preprocess the dataset\n",
    "processed_qm9 = preprocess_qm9(qm9_dataset)\n",
    "\n",
    "print(f\"Processed {len(processed_qm9)} molecules.\")\n",
    "print(f\"Example molecule:\\n{processed_qm9[0]}\")"
   ]
  },
  {
   "cell_type": "code",
   "execution_count": null,
   "metadata": {},
   "outputs": [],
   "source": [
    "# Split dataset into train and test sets\n",
    "train_data, test_data = train_test_split(processed_qm9, test_size=0.2, random_state=42)\n",
    "\n",
    "# Create PyTorch DataLoader objects\n",
    "train_loader = DataLoader(train_data, batch_size=32, shuffle=True)\n",
    "test_loader = DataLoader(test_data, batch_size=32, shuffle=False)"
   ]
  },
  {
   "cell_type": "code",
   "execution_count": null,
   "metadata": {},
   "outputs": [],
   "source": [
    "# Train and evaluate\n",
    "epochs = 10\n",
    "for epoch in range(epochs):\n",
    "    train_model(e3_model, train_loader, optimizer_e3)\n",
    "    train_model(se3_model, train_loader, optimizer_se3)\n",
    "    train_loss_e3, train_acc_e3 = evaluate_model(e3_model, train_loader)\n",
    "    train_loss_se3, train_acc_se3 = evaluate_model(se3_model, train_loader)\n",
    "    test_loss_e3, test_acc_e3 = evaluate_model(e3_model, test_loader)\n",
    "    test_loss_se3, test_acc_se3 = evaluate_model(se3_model, test_loader)\n",
    "    print(f\"[Epoch {epoch+1}] Train Acc (E3): {train_acc_e3:.4f}, Train Acc (SE3): {train_acc_se3:.4f}\")\n",
    "    print(f\"[Epoch {epoch+1}] Test Acc (E3): {test_acc_e3:.4f}, Test Acc (SE3): {test_acc_se3:.4f}\")"
   ]
  }
 ],
 "metadata": {
  "kernelspec": {
   "display_name": "Python 3",
   "language": "python",
   "name": "python3"
  },
  "language_info": {
   "codemirror_mode": {
    "name": "ipython",
    "version": 3
   },
   "file_extension": ".py",
   "mimetype": "text/x-python",
   "name": "python",
   "nbconvert_exporter": "python",
   "pygments_lexer": "ipython3",
   "version": "3.11.9"
  }
 },
 "nbformat": 4,
 "nbformat_minor": 2
}
